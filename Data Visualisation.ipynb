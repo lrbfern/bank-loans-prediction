{
 "cells": [
  {
   "cell_type": "code",
   "execution_count": 1,
   "metadata": {},
   "outputs": [],
   "source": [
    "import numpy as np\n",
    "import pandas as pd\n",
    "import matplotlib.pyplot as plt"
   ]
  },
  {
   "cell_type": "code",
   "execution_count": 2,
   "metadata": {},
   "outputs": [],
   "source": [
    "df = pd.read_csv('FinalLoanData.csv')"
   ]
  },
  {
   "cell_type": "code",
   "execution_count": 3,
   "metadata": {},
   "outputs": [
    {
     "data": {
      "text/html": [
       "<div>\n",
       "<style scoped>\n",
       "    .dataframe tbody tr th:only-of-type {\n",
       "        vertical-align: middle;\n",
       "    }\n",
       "\n",
       "    .dataframe tbody tr th {\n",
       "        vertical-align: top;\n",
       "    }\n",
       "\n",
       "    .dataframe thead th {\n",
       "        text-align: right;\n",
       "    }\n",
       "</style>\n",
       "<table border=\"1\" class=\"dataframe\">\n",
       "  <thead>\n",
       "    <tr style=\"text-align: right;\">\n",
       "      <th></th>\n",
       "      <th>Unnamed: 0</th>\n",
       "      <th>Meets Credit Policy?</th>\n",
       "      <th>Interest Rate (%)</th>\n",
       "      <th>Log Annual Income ($)</th>\n",
       "      <th>FICO Score</th>\n",
       "      <th>Revolving Balance ($)</th>\n",
       "      <th>Revolving Line Utilisation Rate</th>\n",
       "      <th>No. of Overdue Payments</th>\n",
       "      <th>No. of Derogatory Public Records</th>\n",
       "      <th>Loan Not Fully Paid</th>\n",
       "    </tr>\n",
       "  </thead>\n",
       "  <tbody>\n",
       "    <tr>\n",
       "      <td>0</td>\n",
       "      <td>0</td>\n",
       "      <td>1</td>\n",
       "      <td>11.89</td>\n",
       "      <td>11.35</td>\n",
       "      <td>737</td>\n",
       "      <td>28854</td>\n",
       "      <td>52.1</td>\n",
       "      <td>0</td>\n",
       "      <td>0</td>\n",
       "      <td>0</td>\n",
       "    </tr>\n",
       "    <tr>\n",
       "      <td>1</td>\n",
       "      <td>1</td>\n",
       "      <td>1</td>\n",
       "      <td>10.71</td>\n",
       "      <td>11.08</td>\n",
       "      <td>707</td>\n",
       "      <td>33623</td>\n",
       "      <td>76.7</td>\n",
       "      <td>0</td>\n",
       "      <td>0</td>\n",
       "      <td>0</td>\n",
       "    </tr>\n",
       "    <tr>\n",
       "      <td>2</td>\n",
       "      <td>2</td>\n",
       "      <td>1</td>\n",
       "      <td>13.57</td>\n",
       "      <td>10.37</td>\n",
       "      <td>682</td>\n",
       "      <td>3511</td>\n",
       "      <td>25.6</td>\n",
       "      <td>0</td>\n",
       "      <td>0</td>\n",
       "      <td>0</td>\n",
       "    </tr>\n",
       "    <tr>\n",
       "      <td>3</td>\n",
       "      <td>3</td>\n",
       "      <td>1</td>\n",
       "      <td>10.08</td>\n",
       "      <td>11.35</td>\n",
       "      <td>712</td>\n",
       "      <td>33667</td>\n",
       "      <td>73.2</td>\n",
       "      <td>0</td>\n",
       "      <td>0</td>\n",
       "      <td>0</td>\n",
       "    </tr>\n",
       "    <tr>\n",
       "      <td>4</td>\n",
       "      <td>4</td>\n",
       "      <td>1</td>\n",
       "      <td>14.26</td>\n",
       "      <td>11.30</td>\n",
       "      <td>667</td>\n",
       "      <td>4740</td>\n",
       "      <td>39.5</td>\n",
       "      <td>1</td>\n",
       "      <td>0</td>\n",
       "      <td>0</td>\n",
       "    </tr>\n",
       "    <tr>\n",
       "      <td>...</td>\n",
       "      <td>...</td>\n",
       "      <td>...</td>\n",
       "      <td>...</td>\n",
       "      <td>...</td>\n",
       "      <td>...</td>\n",
       "      <td>...</td>\n",
       "      <td>...</td>\n",
       "      <td>...</td>\n",
       "      <td>...</td>\n",
       "      <td>...</td>\n",
       "    </tr>\n",
       "    <tr>\n",
       "      <td>9573</td>\n",
       "      <td>9573</td>\n",
       "      <td>0</td>\n",
       "      <td>14.61</td>\n",
       "      <td>12.18</td>\n",
       "      <td>672</td>\n",
       "      <td>215372</td>\n",
       "      <td>82.1</td>\n",
       "      <td>0</td>\n",
       "      <td>0</td>\n",
       "      <td>1</td>\n",
       "    </tr>\n",
       "    <tr>\n",
       "      <td>9574</td>\n",
       "      <td>9574</td>\n",
       "      <td>0</td>\n",
       "      <td>12.53</td>\n",
       "      <td>11.14</td>\n",
       "      <td>722</td>\n",
       "      <td>184</td>\n",
       "      <td>1.1</td>\n",
       "      <td>0</td>\n",
       "      <td>0</td>\n",
       "      <td>1</td>\n",
       "    </tr>\n",
       "    <tr>\n",
       "      <td>9575</td>\n",
       "      <td>9575</td>\n",
       "      <td>0</td>\n",
       "      <td>10.71</td>\n",
       "      <td>10.60</td>\n",
       "      <td>687</td>\n",
       "      <td>10036</td>\n",
       "      <td>82.9</td>\n",
       "      <td>0</td>\n",
       "      <td>0</td>\n",
       "      <td>1</td>\n",
       "    </tr>\n",
       "    <tr>\n",
       "      <td>9576</td>\n",
       "      <td>9576</td>\n",
       "      <td>0</td>\n",
       "      <td>16.00</td>\n",
       "      <td>10.82</td>\n",
       "      <td>692</td>\n",
       "      <td>0</td>\n",
       "      <td>3.2</td>\n",
       "      <td>0</td>\n",
       "      <td>0</td>\n",
       "      <td>1</td>\n",
       "    </tr>\n",
       "    <tr>\n",
       "      <td>9577</td>\n",
       "      <td>9577</td>\n",
       "      <td>0</td>\n",
       "      <td>13.92</td>\n",
       "      <td>11.26</td>\n",
       "      <td>732</td>\n",
       "      <td>37879</td>\n",
       "      <td>57.0</td>\n",
       "      <td>0</td>\n",
       "      <td>0</td>\n",
       "      <td>1</td>\n",
       "    </tr>\n",
       "  </tbody>\n",
       "</table>\n",
       "<p>9578 rows × 10 columns</p>\n",
       "</div>"
      ],
      "text/plain": [
       "      Unnamed: 0  Meets Credit Policy?  Interest Rate (%)  \\\n",
       "0              0                     1              11.89   \n",
       "1              1                     1              10.71   \n",
       "2              2                     1              13.57   \n",
       "3              3                     1              10.08   \n",
       "4              4                     1              14.26   \n",
       "...          ...                   ...                ...   \n",
       "9573        9573                     0              14.61   \n",
       "9574        9574                     0              12.53   \n",
       "9575        9575                     0              10.71   \n",
       "9576        9576                     0              16.00   \n",
       "9577        9577                     0              13.92   \n",
       "\n",
       "      Log Annual Income ($)  FICO Score  Revolving Balance ($)  \\\n",
       "0                     11.35         737                  28854   \n",
       "1                     11.08         707                  33623   \n",
       "2                     10.37         682                   3511   \n",
       "3                     11.35         712                  33667   \n",
       "4                     11.30         667                   4740   \n",
       "...                     ...         ...                    ...   \n",
       "9573                  12.18         672                 215372   \n",
       "9574                  11.14         722                    184   \n",
       "9575                  10.60         687                  10036   \n",
       "9576                  10.82         692                      0   \n",
       "9577                  11.26         732                  37879   \n",
       "\n",
       "      Revolving Line Utilisation Rate  No. of Overdue Payments  \\\n",
       "0                                52.1                        0   \n",
       "1                                76.7                        0   \n",
       "2                                25.6                        0   \n",
       "3                                73.2                        0   \n",
       "4                                39.5                        1   \n",
       "...                               ...                      ...   \n",
       "9573                             82.1                        0   \n",
       "9574                              1.1                        0   \n",
       "9575                             82.9                        0   \n",
       "9576                              3.2                        0   \n",
       "9577                             57.0                        0   \n",
       "\n",
       "      No. of Derogatory Public Records  Loan Not Fully Paid  \n",
       "0                                    0                    0  \n",
       "1                                    0                    0  \n",
       "2                                    0                    0  \n",
       "3                                    0                    0  \n",
       "4                                    0                    0  \n",
       "...                                ...                  ...  \n",
       "9573                                 0                    1  \n",
       "9574                                 0                    1  \n",
       "9575                                 0                    1  \n",
       "9576                                 0                    1  \n",
       "9577                                 0                    1  \n",
       "\n",
       "[9578 rows x 10 columns]"
      ]
     },
     "execution_count": 3,
     "metadata": {},
     "output_type": "execute_result"
    }
   ],
   "source": [
    "df"
   ]
  },
  {
   "cell_type": "code",
   "execution_count": 4,
   "metadata": {},
   "outputs": [],
   "source": [
    "df.columns = df.columns = ['Delete', 'Meets Credit Policy?', 'Interest Rate (%)', 'Log Annual Income ($)', 'FICO Score', 'Revolving Balance ($)', 'Revolving Line Utilisation Rate', 'No. of Overdue Payments', 'No. of Derogatory Public Records', 'Loan Not Fully Paid']"
   ]
  },
  {
   "cell_type": "code",
   "execution_count": 5,
   "metadata": {},
   "outputs": [],
   "source": [
    "del df['Delete'] # Delete the extra row at the start we don't need"
   ]
  },
  {
   "cell_type": "markdown",
   "metadata": {},
   "source": [
    "# FICO Score and Loan Not Fully Paid"
   ]
  },
  {
   "cell_type": "code",
   "execution_count": 6,
   "metadata": {},
   "outputs": [],
   "source": [
    "FICO_cat1 = df.loc[(df['FICO Score'] < 650)] # 231 people\n",
    "cat1_notfully = FICO_cat1.loc[(FICO_cat1['Loan Not Fully Paid'] == 1)] # 32.0%\n",
    "\n",
    "FICO_cat2 = df.loc[(df['FICO Score'] >= 650) & (df['FICO Score'] < 700)] # 3990 people\n",
    "cat2_notfully = FICO_cat2.loc[(FICO_cat2['Loan Not Fully Paid'] == 1)] # 20.0%\n",
    "\n",
    "FICO_cat3 = df.loc[(df['FICO Score'] >= 700) & (df['FICO Score'] < 750)] # 3687 people\n",
    "cat3_notfully = FICO_cat3.loc[(FICO_cat3['Loan Not Fully Paid'] == 1)] # 14.5%\n",
    "\n",
    "FICO_cat4 = df.loc[(df['FICO Score'] >= 750) & (df['FICO Score'] < 800)] # 1525 people\n",
    "cat4_notfully = FICO_cat4.loc[(FICO_cat4['Loan Not Fully Paid'] == 1)] # 7.5%\n",
    "\n",
    "FICO_cat5 = df.loc[(df['FICO Score'] >= 800)] # 145 people\n",
    "cat5_notfully = FICO_cat5.loc[(FICO_cat5['Loan Not Fully Paid'] == 1)] # 6.9%\n",
    "\n",
    "# As expected, the higher someone's FICO score, the less likely they are to not pay back the loan fully.\n",
    "# Yes, I can confirm that all the data entries are included within these 5 categories, as the grand total adds up to 9,578"
   ]
  },
  {
   "cell_type": "code",
   "execution_count": 2,
   "metadata": {},
   "outputs": [
    {
     "data": {
      "image/png": "[encoded data removed]",
      "text/plain": [
       "<Figure size 432x288 with 1 Axes>"
      ]
     },
     "metadata": {
      "needs_background": "light"
     },
     "output_type": "display_data"
    }
   ],
   "source": [
    "# Now plot these percentages in bar graph format!\n",
    "# x-axis = FICO score category, y-axis = % of people within that category who didn't pay back fully\n",
    "\n",
    "data = [32.0, 20.0, 14.5, 7.5, 6.9]\n",
    "labels = ['< 650', '650-699', '700-749', '750-799', '>=800']\n",
    "plt.xticks(range(len(data)), labels)\n",
    "plt.xlabel('FICO Score Category')\n",
    "plt.ylabel('Did not pay back loan fully (%)')\n",
    "plt.title('FICO Score and Not Paying Back Loan Fully')\n",
    "plt.bar(range(len(data)), data)\n",
    "plt.show()"
   ]
  },
  {
   "cell_type": "markdown",
   "metadata": {},
   "source": [
    "This demonstrates that, the higher the FICO score, the less likely you are to not pay back your loan fully. "
   ]
  },
  {
   "cell_type": "markdown",
   "metadata": {},
   "source": [
    "# Meeting credit policy and Loan Not Fully Paid"
   ]
  },
  {
   "cell_type": "code",
   "execution_count": 8,
   "metadata": {},
   "outputs": [],
   "source": [
    "met_policy = df.loc[(df['Meets Credit Policy?'] == 1)] #7,710\n",
    "not_met_policy = df.loc[(df['Meets Credit Policy?'] == 0)] # 1,868"
   ]
  },
  {
   "cell_type": "code",
   "execution_count": 9,
   "metadata": {},
   "outputs": [],
   "source": [
    "bar_1 = met_policy.loc[(met_policy['Loan Not Fully Paid'] == 1)] # 1014/7710 x 100 = 13.2%\n",
    "bar_2 = not_met_policy.loc[(not_met_policy['Loan Not Fully Paid'] == 1)] # 519/1868 x 100 = 27.8%"
   ]
  },
  {
   "cell_type": "code",
   "execution_count": 10,
   "metadata": {},
   "outputs": [
    {
     "data": {
      "image/png": "[encoded data removed]",
      "text/plain": [
       "<Figure size 432x288 with 1 Axes>"
      ]
     },
     "metadata": {
      "needs_background": "light"
     },
     "output_type": "display_data"
    }
   ],
   "source": [
    "data = [27.8, 13.2]\n",
    "labels = ['No', 'Yes']\n",
    "plt.xticks(range(len(data)), labels)\n",
    "plt.xlabel('Met Credit Policy?')\n",
    "plt.ylabel('Did not pay back loan fully (%)')\n",
    "plt.title('Meeting credit policy and not paying back loan fully')\n",
    "plt.bar(range(len(data)), data)\n",
    "plt.show()"
   ]
  },
  {
   "cell_type": "markdown",
   "metadata": {},
   "source": [
    "An individual having met the credit policy significantly decreases their likelihood of having not paid the loan back fully."
   ]
  },
  {
   "cell_type": "markdown",
   "metadata": {},
   "source": [
    "# Interest Rate and Loan Not Fully Paid"
   ]
  },
  {
   "cell_type": "code",
   "execution_count": 11,
   "metadata": {},
   "outputs": [],
   "source": [
    "# Split interest rates around average, which = 12.2%\n",
    "# For below average and above average interest rates respectively, what percentage of these people \n",
    "# did not fully pay back the loan?\n",
    "\n",
    "low_interest = df.loc[(df['Interest Rate (%)'] <= 12.2)] # 4620\n",
    "high_interest = df.loc[(df['Interest Rate (%)'] > 12.2)] # 4958"
   ]
  },
  {
   "cell_type": "code",
   "execution_count": 12,
   "metadata": {},
   "outputs": [],
   "source": [
    "low_not_fully = low_interest.loc[(low_interest['Loan Not Fully Paid'] == 1)] # 533/4620 x 100 = 11.5%\n",
    "high_not_fully = high_interest.loc[(high_interest['Loan Not Fully Paid'] == 1)] # 1000/4958 x 100 = 20.2%"
   ]
  },
  {
   "cell_type": "code",
   "execution_count": 13,
   "metadata": {},
   "outputs": [],
   "source": [
    "low_policy = low_interest.loc[(low_interest['Meets Credit Policy?'] == 0)] # 452/4620 x 100 = 9.8%\n",
    "high_policy = high_interest.loc[(high_interest['Meets Credit Policy?'] == 0)] # 1416/4958 x 100 = 28.6%"
   ]
  },
  {
   "cell_type": "markdown",
   "metadata": {},
   "source": [
    "Far more people who didn't meet credit policy were assigned high interest rate than those who did. Therefore, it's fair to say that not meeting credit policy caused Lending Club to charge high interest rates (as implied by descriptions on Kaggle). So, yes, interest rate DOES affect outcome 'not fully paid' but only through 'credit policy'"
   ]
  },
  {
   "cell_type": "code",
   "execution_count": 14,
   "metadata": {},
   "outputs": [
    {
     "data": {
      "image/png": "[encoded data removed]",
      "text/plain": [
       "<Figure size 432x288 with 1 Axes>"
      ]
     },
     "metadata": {
      "needs_background": "light"
     },
     "output_type": "display_data"
    }
   ],
   "source": [
    "data = [20.2, 11.5]\n",
    "labels = ['High (> 12.2%)', 'Low (<= 12.2%)']\n",
    "plt.xticks(range(len(data)), labels)\n",
    "plt.xlabel('Interest Rate')\n",
    "plt.ylabel('Did not pay back loan fully (%)')\n",
    "plt.title('Interest rate and not paying back loan fully')\n",
    "plt.bar(range(len(data)), data)\n",
    "plt.show()"
   ]
  },
  {
   "cell_type": "markdown",
   "metadata": {},
   "source": [
    "# Personal financial prudence measusrements and FICO scores"
   ]
  },
  {
   "cell_type": "markdown",
   "metadata": {},
   "source": [
    "## FICO Score and Revolving Line Utilisation Rate"
   ]
  },
  {
   "cell_type": "code",
   "execution_count": 15,
   "metadata": {},
   "outputs": [],
   "source": [
    "FICO_cat1 = df.loc[(df['FICO Score'] < 650)] # 231 people\n",
    "cat1_notfully = FICO_cat1.loc[(FICO_cat1['Loan Not Fully Paid'] == 1)] # 32.0%\n",
    "\n",
    "FICO_cat2 = df.loc[(df['FICO Score'] >= 650) & (df['FICO Score'] < 700)] # 3990 people\n",
    "cat2_notfully = FICO_cat2.loc[(FICO_cat2['Loan Not Fully Paid'] == 1)] # 20.0%\n",
    "\n",
    "FICO_cat3 = df.loc[(df['FICO Score'] >= 700) & (df['FICO Score'] < 750)] # 3687 people\n",
    "cat3_notfully = FICO_cat3.loc[(FICO_cat3['Loan Not Fully Paid'] == 1)] # 14.5%\n",
    "\n",
    "FICO_cat4 = df.loc[(df['FICO Score'] >= 750) & (df['FICO Score'] < 800)] # 1525 people\n",
    "cat4_notfully = FICO_cat4.loc[(FICO_cat4['Loan Not Fully Paid'] == 1)] # 7.5%\n",
    "\n",
    "FICO_cat5 = df.loc[(df['FICO Score'] >= 800)] # 145 people\n",
    "cat5_notfully = FICO_cat5.loc[(FICO_cat5['Loan Not Fully Paid'] == 1)] # 6.9%"
   ]
  },
  {
   "cell_type": "code",
   "execution_count": 16,
   "metadata": {},
   "outputs": [],
   "source": [
    "# Within each FICO category, how many people had a line utilisation rate > 46.8 (the average)\n",
    "\n",
    "util_low_FICO = FICO_cat1.loc[(FICO_cat1['Revolving Line Utilisation Rate'] > 46.8)] # 189/231 x 100 = 81.8%\n",
    "util_med_FICO = FICO_cat3.loc[(FICO_cat3['Revolving Line Utilisation Rate'] > 46.8)] # 1665/3687 x 100 = 45.2%\n",
    "util_high_FICO = FICO_cat5.loc[(FICO_cat5['Revolving Line Utilisation Rate'] > 46.8)] # 2/145 x 100 = 1.4%"
   ]
  },
  {
   "cell_type": "code",
   "execution_count": 3,
   "metadata": {},
   "outputs": [
    {
     "data": {
      "image/png": "[encoded data removed]",
      "text/plain": [
       "<Figure size 432x288 with 1 Axes>"
      ]
     },
     "metadata": {
      "needs_background": "light"
     },
     "output_type": "display_data"
    }
   ],
   "source": [
    "data = [81.8, 45.2, 1.4]\n",
    "labels = ['Low FICO Score\\n (<650)', 'Medium FICO Score\\n (700-749)', 'High FICO Score\\n (>=800)']\n",
    "plt.xticks(range(len(data)), labels)\n",
    "plt.xlabel('')\n",
    "plt.ylabel('Revolving Line Utilisation Rate Greater than Average (%)')\n",
    "plt.title('The contribution of revolving line utilisation rate to FICO score')\n",
    "plt.bar(range(len(data)), data)\n",
    "plt.show()"
   ]
  },
  {
   "cell_type": "markdown",
   "metadata": {},
   "source": [
    "This demonstrates that the financial prudence measurement of revolving line utilisation (e.g. how much of the credit line they've used relative to what's available) significantly contributes towards an individual's FICO score."
   ]
  },
  {
   "cell_type": "markdown",
   "metadata": {},
   "source": [
    "## If someone has 1 or more derogatory public records, does that make them more likely to have a low FICO score?"
   ]
  },
  {
   "cell_type": "code",
   "execution_count": 18,
   "metadata": {},
   "outputs": [],
   "source": [
    "FICO_cat1 = df.loc[(df['FICO Score'] < 650)] # 231 people\n",
    "cat1_notfully = FICO_cat1.loc[(FICO_cat1['Loan Not Fully Paid'] == 1)] # 32.0%\n",
    "\n",
    "FICO_cat2 = df.loc[(df['FICO Score'] >= 650) & (df['FICO Score'] < 700)] # 3990 people\n",
    "cat2_notfully = FICO_cat2.loc[(FICO_cat2['Loan Not Fully Paid'] == 1)] # 20.0%\n",
    "\n",
    "FICO_cat3 = df.loc[(df['FICO Score'] >= 700) & (df['FICO Score'] < 750)] # 3687 people\n",
    "cat3_notfully = FICO_cat3.loc[(FICO_cat3['Loan Not Fully Paid'] == 1)] # 14.5%\n",
    "\n",
    "FICO_cat4 = df.loc[(df['FICO Score'] >= 750) & (df['FICO Score'] < 800)] # 1525 people\n",
    "cat4_notfully = FICO_cat4.loc[(FICO_cat4['Loan Not Fully Paid'] == 1)] # 7.5%\n",
    "\n",
    "FICO_cat5 = df.loc[(df['FICO Score'] >= 800)] # 145 people\n",
    "cat5_notfully = FICO_cat5.loc[(FICO_cat5['Loan Not Fully Paid'] == 1)] # 6.9%"
   ]
  },
  {
   "cell_type": "code",
   "execution_count": 19,
   "metadata": {},
   "outputs": [],
   "source": [
    "derogatory_low_FICO = FICO_cat1.loc[(FICO_cat1['No. of Derogatory Public Records'] > 0)] # 18/231 x 100 = 7.8%\n",
    "derogatory_med_FICO = FICO_cat3.loc[(FICO_cat3['No. of Derogatory Public Records'] > 0)] # 176/3687 x 100 = 4.8%\n",
    "derogatory_high_FICO = FICO_cat5.loc[(FICO_cat5['No. of Derogatory Public Records'] > 0)] # 0/145 = 0%"
   ]
  },
  {
   "cell_type": "code",
   "execution_count": 20,
   "metadata": {},
   "outputs": [
    {
     "data": {
      "image/png": "[encoded data removed]",
      "text/plain": [
       "<Figure size 432x288 with 1 Axes>"
      ]
     },
     "metadata": {
      "needs_background": "light"
     },
     "output_type": "display_data"
    }
   ],
   "source": [
    "data = [7.8, 4.8, 0]\n",
    "labels = ['Low FICO Score\\n (<650)', 'Medium FICO Score\\n (100-750)', 'High FICO Score\\n (>=800)']\n",
    "plt.xticks(range(len(data)), labels)\n",
    "plt.xlabel('')\n",
    "plt.ylabel('People with 1 more more derogatory public records (%)')\n",
    "plt.title('No. of derogatory public records and FICO score')\n",
    "plt.bar(range(len(data)), data)\n",
    "plt.show()"
   ]
  },
  {
   "cell_type": "markdown",
   "metadata": {},
   "source": [
    "## No. of overdue payments and FICO score"
   ]
  },
  {
   "cell_type": "code",
   "execution_count": 21,
   "metadata": {},
   "outputs": [],
   "source": [
    "FICO_cat1 = df.loc[(df['FICO Score'] < 650)] # 231 people\n",
    "cat1_notfully = FICO_cat1.loc[(FICO_cat1['Loan Not Fully Paid'] == 1)] # 32.0%\n",
    "\n",
    "FICO_cat2 = df.loc[(df['FICO Score'] >= 650) & (df['FICO Score'] < 700)] # 3990 people\n",
    "cat2_notfully = FICO_cat2.loc[(FICO_cat2['Loan Not Fully Paid'] == 1)] # 20.0%\n",
    "\n",
    "FICO_cat3 = df.loc[(df['FICO Score'] >= 700) & (df['FICO Score'] < 750)] # 3687 people\n",
    "cat3_notfully = FICO_cat3.loc[(FICO_cat3['Loan Not Fully Paid'] == 1)] # 14.5%\n",
    "\n",
    "FICO_cat4 = df.loc[(df['FICO Score'] >= 750) & (df['FICO Score'] < 800)] # 1525 people\n",
    "cat4_notfully = FICO_cat4.loc[(FICO_cat4['Loan Not Fully Paid'] == 1)] # 7.5%\n",
    "\n",
    "FICO_cat5 = df.loc[(df['FICO Score'] >= 800)] # 145 people\n",
    "cat5_notfully = FICO_cat5.loc[(FICO_cat5['Loan Not Fully Paid'] == 1)] # 6.9%"
   ]
  },
  {
   "cell_type": "code",
   "execution_count": 22,
   "metadata": {},
   "outputs": [],
   "source": [
    "overdue_low_FICO = FICO_cat1.loc[(FICO_cat1['No. of Overdue Payments'] > 0)] # 45/231 x 100 = 19.5%\n",
    "overdue_med_FICO = FICO_cat3.loc[(FICO_cat3['No. of Overdue Payments'] > 0)] # 293/3687 x 100 = 7.9%\n",
    "overdue_high_FICO = FICO_cat5.loc[(FICO_cat5['No. of Overdue Payments'] > 0)] # 0/145 x 100 = 0%"
   ]
  },
  {
   "cell_type": "code",
   "execution_count": 23,
   "metadata": {},
   "outputs": [
    {
     "data": {
      "image/png": "[encoded data removed]",
      "text/plain": [
       "<Figure size 432x288 with 1 Axes>"
      ]
     },
     "metadata": {
      "needs_background": "light"
     },
     "output_type": "display_data"
    }
   ],
   "source": [
    "data = [19.5, 7.9, 0]\n",
    "labels = ['Low FICO Score\\n (<650)', 'Medium FICO Score\\n (100-750)', 'High FICO Score\\n (>=800)']\n",
    "plt.xticks(range(len(data)), labels)\n",
    "plt.xlabel('')\n",
    "plt.ylabel('People with 1 more more overdue payments (%)')\n",
    "plt.title('No. of overdue payments and FICO score')\n",
    "plt.bar(range(len(data)), data)\n",
    "plt.show()"
   ]
  }
 ],
 "metadata": {
  "kernelspec": {
   "display_name": "Python 3",
   "language": "python",
   "name": "python3"
  },
  "language_info": {
   "codemirror_mode": {
    "name": "ipython",
    "version": 3
   },
   "file_extension": ".py",
   "mimetype": "text/x-python",
   "name": "python",
   "nbconvert_exporter": "python",
   "pygments_lexer": "ipython3",
   "version": "3.7.4"
  }
 },
 "nbformat": 4,
 "nbformat_minor": 2
}
