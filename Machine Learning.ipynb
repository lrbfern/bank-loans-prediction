{
 "cells": [
  {
   "cell_type": "code",
   "execution_count": 1,
   "metadata": {},
   "outputs": [],
   "source": [
    "import numpy as np\n",
    "import pandas as pd\n",
    "import matplotlib.pyplot as plt\n",
    "import seaborn as sns"
   ]
  },
  {
   "cell_type": "code",
   "execution_count": 2,
   "metadata": {},
   "outputs": [
    {
     "data": {
      "text/html": [
       "<div>\n",
       "<style scoped>\n",
       "    .dataframe tbody tr th:only-of-type {\n",
       "        vertical-align: middle;\n",
       "    }\n",
       "\n",
       "    .dataframe tbody tr th {\n",
       "        vertical-align: top;\n",
       "    }\n",
       "\n",
       "    .dataframe thead th {\n",
       "        text-align: right;\n",
       "    }\n",
       "</style>\n",
       "<table border=\"1\" class=\"dataframe\">\n",
       "  <thead>\n",
       "    <tr style=\"text-align: right;\">\n",
       "      <th></th>\n",
       "      <th>Unnamed: 0</th>\n",
       "      <th>Meets Credit Policy?</th>\n",
       "      <th>Interest Rate (%)</th>\n",
       "      <th>Log Annual Income ($)</th>\n",
       "      <th>FICO Score</th>\n",
       "      <th>Revolving Balance ($)</th>\n",
       "      <th>Revolving Line Utilisation Rate</th>\n",
       "      <th>No. of Overdue Payments</th>\n",
       "      <th>No. of Derogatory Public Records</th>\n",
       "      <th>Loan Not Fully Paid</th>\n",
       "    </tr>\n",
       "  </thead>\n",
       "  <tbody>\n",
       "    <tr>\n",
       "      <td>0</td>\n",
       "      <td>0</td>\n",
       "      <td>1</td>\n",
       "      <td>11.89</td>\n",
       "      <td>11.35</td>\n",
       "      <td>737</td>\n",
       "      <td>28854</td>\n",
       "      <td>52.1</td>\n",
       "      <td>0</td>\n",
       "      <td>0</td>\n",
       "      <td>0</td>\n",
       "    </tr>\n",
       "    <tr>\n",
       "      <td>1</td>\n",
       "      <td>1</td>\n",
       "      <td>1</td>\n",
       "      <td>10.71</td>\n",
       "      <td>11.08</td>\n",
       "      <td>707</td>\n",
       "      <td>33623</td>\n",
       "      <td>76.7</td>\n",
       "      <td>0</td>\n",
       "      <td>0</td>\n",
       "      <td>0</td>\n",
       "    </tr>\n",
       "    <tr>\n",
       "      <td>2</td>\n",
       "      <td>2</td>\n",
       "      <td>1</td>\n",
       "      <td>13.57</td>\n",
       "      <td>10.37</td>\n",
       "      <td>682</td>\n",
       "      <td>3511</td>\n",
       "      <td>25.6</td>\n",
       "      <td>0</td>\n",
       "      <td>0</td>\n",
       "      <td>0</td>\n",
       "    </tr>\n",
       "    <tr>\n",
       "      <td>3</td>\n",
       "      <td>3</td>\n",
       "      <td>1</td>\n",
       "      <td>10.08</td>\n",
       "      <td>11.35</td>\n",
       "      <td>712</td>\n",
       "      <td>33667</td>\n",
       "      <td>73.2</td>\n",
       "      <td>0</td>\n",
       "      <td>0</td>\n",
       "      <td>0</td>\n",
       "    </tr>\n",
       "    <tr>\n",
       "      <td>4</td>\n",
       "      <td>4</td>\n",
       "      <td>1</td>\n",
       "      <td>14.26</td>\n",
       "      <td>11.30</td>\n",
       "      <td>667</td>\n",
       "      <td>4740</td>\n",
       "      <td>39.5</td>\n",
       "      <td>1</td>\n",
       "      <td>0</td>\n",
       "      <td>0</td>\n",
       "    </tr>\n",
       "    <tr>\n",
       "      <td>...</td>\n",
       "      <td>...</td>\n",
       "      <td>...</td>\n",
       "      <td>...</td>\n",
       "      <td>...</td>\n",
       "      <td>...</td>\n",
       "      <td>...</td>\n",
       "      <td>...</td>\n",
       "      <td>...</td>\n",
       "      <td>...</td>\n",
       "      <td>...</td>\n",
       "    </tr>\n",
       "    <tr>\n",
       "      <td>9573</td>\n",
       "      <td>9573</td>\n",
       "      <td>0</td>\n",
       "      <td>14.61</td>\n",
       "      <td>12.18</td>\n",
       "      <td>672</td>\n",
       "      <td>215372</td>\n",
       "      <td>82.1</td>\n",
       "      <td>0</td>\n",
       "      <td>0</td>\n",
       "      <td>1</td>\n",
       "    </tr>\n",
       "    <tr>\n",
       "      <td>9574</td>\n",
       "      <td>9574</td>\n",
       "      <td>0</td>\n",
       "      <td>12.53</td>\n",
       "      <td>11.14</td>\n",
       "      <td>722</td>\n",
       "      <td>184</td>\n",
       "      <td>1.1</td>\n",
       "      <td>0</td>\n",
       "      <td>0</td>\n",
       "      <td>1</td>\n",
       "    </tr>\n",
       "    <tr>\n",
       "      <td>9575</td>\n",
       "      <td>9575</td>\n",
       "      <td>0</td>\n",
       "      <td>10.71</td>\n",
       "      <td>10.60</td>\n",
       "      <td>687</td>\n",
       "      <td>10036</td>\n",
       "      <td>82.9</td>\n",
       "      <td>0</td>\n",
       "      <td>0</td>\n",
       "      <td>1</td>\n",
       "    </tr>\n",
       "    <tr>\n",
       "      <td>9576</td>\n",
       "      <td>9576</td>\n",
       "      <td>0</td>\n",
       "      <td>16.00</td>\n",
       "      <td>10.82</td>\n",
       "      <td>692</td>\n",
       "      <td>0</td>\n",
       "      <td>3.2</td>\n",
       "      <td>0</td>\n",
       "      <td>0</td>\n",
       "      <td>1</td>\n",
       "    </tr>\n",
       "    <tr>\n",
       "      <td>9577</td>\n",
       "      <td>9577</td>\n",
       "      <td>0</td>\n",
       "      <td>13.92</td>\n",
       "      <td>11.26</td>\n",
       "      <td>732</td>\n",
       "      <td>37879</td>\n",
       "      <td>57.0</td>\n",
       "      <td>0</td>\n",
       "      <td>0</td>\n",
       "      <td>1</td>\n",
       "    </tr>\n",
       "  </tbody>\n",
       "</table>\n",
       "<p>9578 rows × 10 columns</p>\n",
       "</div>"
      ],
      "text/plain": [
       "      Unnamed: 0  Meets Credit Policy?  Interest Rate (%)  \\\n",
       "0              0                     1              11.89   \n",
       "1              1                     1              10.71   \n",
       "2              2                     1              13.57   \n",
       "3              3                     1              10.08   \n",
       "4              4                     1              14.26   \n",
       "...          ...                   ...                ...   \n",
       "9573        9573                     0              14.61   \n",
       "9574        9574                     0              12.53   \n",
       "9575        9575                     0              10.71   \n",
       "9576        9576                     0              16.00   \n",
       "9577        9577                     0              13.92   \n",
       "\n",
       "      Log Annual Income ($)  FICO Score  Revolving Balance ($)  \\\n",
       "0                     11.35         737                  28854   \n",
       "1                     11.08         707                  33623   \n",
       "2                     10.37         682                   3511   \n",
       "3                     11.35         712                  33667   \n",
       "4                     11.30         667                   4740   \n",
       "...                     ...         ...                    ...   \n",
       "9573                  12.18         672                 215372   \n",
       "9574                  11.14         722                    184   \n",
       "9575                  10.60         687                  10036   \n",
       "9576                  10.82         692                      0   \n",
       "9577                  11.26         732                  37879   \n",
       "\n",
       "      Revolving Line Utilisation Rate  No. of Overdue Payments  \\\n",
       "0                                52.1                        0   \n",
       "1                                76.7                        0   \n",
       "2                                25.6                        0   \n",
       "3                                73.2                        0   \n",
       "4                                39.5                        1   \n",
       "...                               ...                      ...   \n",
       "9573                             82.1                        0   \n",
       "9574                              1.1                        0   \n",
       "9575                             82.9                        0   \n",
       "9576                              3.2                        0   \n",
       "9577                             57.0                        0   \n",
       "\n",
       "      No. of Derogatory Public Records  Loan Not Fully Paid  \n",
       "0                                    0                    0  \n",
       "1                                    0                    0  \n",
       "2                                    0                    0  \n",
       "3                                    0                    0  \n",
       "4                                    0                    0  \n",
       "...                                ...                  ...  \n",
       "9573                                 0                    1  \n",
       "9574                                 0                    1  \n",
       "9575                                 0                    1  \n",
       "9576                                 0                    1  \n",
       "9577                                 0                    1  \n",
       "\n",
       "[9578 rows x 10 columns]"
      ]
     },
     "execution_count": 2,
     "metadata": {},
     "output_type": "execute_result"
    }
   ],
   "source": [
    "df = pd.read_csv('FinalLoanData.csv')\n",
    "df"
   ]
  },
  {
   "cell_type": "code",
   "execution_count": 3,
   "metadata": {},
   "outputs": [],
   "source": [
    "df.columns = ['Delete', 'Meets Credit Policy?', 'Interest Rate (%)', 'Log Annual Income ($)', 'FICO Score', 'Revolving Balance ($)', 'Revolving Line Utilisation Rate', 'No. of Overdue Payments', 'No. of Derogatory Public Records', 'LoanNotFullyPaid']"
   ]
  },
  {
   "cell_type": "code",
   "execution_count": 4,
   "metadata": {},
   "outputs": [],
   "source": [
    "del df['Delete']"
   ]
  },
  {
   "cell_type": "code",
   "execution_count": 5,
   "metadata": {},
   "outputs": [
    {
     "data": {
      "text/plain": [
       "0    8045\n",
       "1    1533\n",
       "Name: LoanNotFullyPaid, dtype: int64"
      ]
     },
     "execution_count": 5,
     "metadata": {},
     "output_type": "execute_result"
    }
   ],
   "source": [
    "df.LoanNotFullyPaid.value_counts() # More people who did pay back fully than did not"
   ]
  },
  {
   "cell_type": "code",
   "execution_count": 6,
   "metadata": {},
   "outputs": [],
   "source": [
    "data = df[['Interest Rate (%)', 'Log Annual Income ($)', 'FICO Score', 'Revolving Balance ($)', 'Revolving Line Utilisation Rate', 'No. of Overdue Payments', 'No. of Derogatory Public Records']]\n",
    "target = df[['LoanNotFullyPaid']]  "
   ]
  },
  {
   "cell_type": "code",
   "execution_count": 7,
   "metadata": {},
   "outputs": [],
   "source": [
    "data = data.to_numpy()\n",
    "target = target.to_numpy() # Convert to NumPy arrays so suitable as input for algorithms"
   ]
  },
  {
   "cell_type": "code",
   "execution_count": 8,
   "metadata": {},
   "outputs": [],
   "source": [
    "X = data # predictors\n",
    "y = target # outcomes\n",
    "y.shape = (9578,) "
   ]
  },
  {
   "cell_type": "code",
   "execution_count": 9,
   "metadata": {},
   "outputs": [],
   "source": [
    "from sklearn.model_selection import train_test_split\n",
    "from sklearn import metrics\n",
    "from sklearn.metrics import confusion_matrix"
   ]
  },
  {
   "cell_type": "code",
   "execution_count": 10,
   "metadata": {},
   "outputs": [
    {
     "name": "stdout",
     "output_type": "stream",
     "text": [
      "1958 / 2395 correct\n"
     ]
    }
   ],
   "source": [
    "from sklearn.tree import DecisionTreeClassifier\n",
    "Xtrain, Xtest, ytrain, ytest = train_test_split(X, y) # Split into training and testing sets\n",
    "model = DecisionTreeClassifier(max_depth = 10) # Create model\n",
    "model.fit(Xtrain, ytrain) # Train model to find training outcomes as function of training variable states\n",
    "ypred = model.predict(Xtest) # Based on testing data predictors, make predictions of outcomes using model\n",
    "print(\"{0} / {1} correct\".format(np.sum(ytest == ypred), len(ytest))) "
   ]
  },
  {
   "cell_type": "code",
   "execution_count": 11,
   "metadata": {},
   "outputs": [
    {
     "data": {
      "text/plain": [
       "0.8175365344467641"
      ]
     },
     "execution_count": 11,
     "metadata": {},
     "output_type": "execute_result"
    }
   ],
   "source": [
    "metrics.accuracy_score(ytest, ypred)"
   ]
  },
  {
   "cell_type": "code",
   "execution_count": 12,
   "metadata": {},
   "outputs": [
    {
     "data": {
      "text/plain": [
       "<sklearn.metrics._plot.confusion_matrix.ConfusionMatrixDisplay at 0x7ff62ee6b3d0>"
      ]
     },
     "execution_count": 12,
     "metadata": {},
     "output_type": "execute_result"
    },
    {
     "data": {
      "image/png": "[encoded data removed]",
      "text/plain": [
       "<Figure size 432x288 with 2 Axes>"
      ]
     },
     "metadata": {
      "needs_background": "light"
     },
     "output_type": "display_data"
    }
   ],
   "source": [
    "from sklearn.metrics import ConfusionMatrixDisplay\n",
    "matrix = confusion_matrix(ytest, ypred, labels=model.classes_) # To what extent do predictions reflect actual?\n",
    "display = ConfusionMatrixDisplay(confusion_matrix=matrix, display_labels=model.classes_)\n",
    "display.plot()"
   ]
  },
  {
   "cell_type": "code",
   "execution_count": 13,
   "metadata": {},
   "outputs": [
    {
     "name": "stdout",
     "output_type": "stream",
     "text": [
      "              precision    recall  f1-score   support\n",
      "\n",
      "           0       0.85      0.96      0.90      2009\n",
      "           1       0.29      0.09      0.13       386\n",
      "\n",
      "    accuracy                           0.82      2395\n",
      "   macro avg       0.57      0.52      0.52      2395\n",
      "weighted avg       0.76      0.82      0.77      2395\n",
      "\n"
     ]
    }
   ],
   "source": [
    "from sklearn.metrics import classification_report\n",
    "print(classification_report(ytest, ypred, labels=model.classes_))"
   ]
  },
  {
   "cell_type": "code",
   "execution_count": 14,
   "metadata": {},
   "outputs": [
    {
     "name": "stdout",
     "output_type": "stream",
     "text": [
      "2023 / 2395 correct\n"
     ]
    }
   ],
   "source": [
    "from sklearn.ensemble import RandomForestClassifier\n",
    "Xtrain, Xtest, ytrain, ytest = train_test_split(X, y)\n",
    "model = RandomForestClassifier(n_estimators=100, random_state=0) # Average of outputs of 100 decision trees\n",
    "model.fit(Xtrain, ytrain)\n",
    "ypred = model.predict(Xtest)\n",
    "print(\"{0} / {1} correct\".format(np.sum(ytest == ypred), len(ytest)))"
   ]
  },
  {
   "cell_type": "code",
   "execution_count": 15,
   "metadata": {},
   "outputs": [
    {
     "data": {
      "text/plain": [
       "0.8446764091858038"
      ]
     },
     "execution_count": 15,
     "metadata": {},
     "output_type": "execute_result"
    }
   ],
   "source": [
    "metrics.accuracy_score(ytest, ypred)"
   ]
  },
  {
   "cell_type": "code",
   "execution_count": 16,
   "metadata": {},
   "outputs": [
    {
     "data": {
      "text/plain": [
       "<sklearn.metrics._plot.confusion_matrix.ConfusionMatrixDisplay at 0x7ff62f113f50>"
      ]
     },
     "execution_count": 16,
     "metadata": {},
     "output_type": "execute_result"
    },
    {
     "data": {
      "image/png": "[encoded data removed]",
      "text/plain": [
       "<Figure size 432x288 with 2 Axes>"
      ]
     },
     "metadata": {
      "needs_background": "light"
     },
     "output_type": "display_data"
    }
   ],
   "source": [
    "from sklearn.metrics import ConfusionMatrixDisplay\n",
    "matrix = confusion_matrix(ytest, ypred, labels=model.classes_)\n",
    "display = ConfusionMatrixDisplay(confusion_matrix=matrix, display_labels=model.classes_)\n",
    "display.plot()"
   ]
  },
  {
   "cell_type": "code",
   "execution_count": 17,
   "metadata": {},
   "outputs": [
    {
     "name": "stdout",
     "output_type": "stream",
     "text": [
      "              precision    recall  f1-score   support\n",
      "\n",
      "           0       0.85      1.00      0.92      2023\n",
      "           1       0.50      0.03      0.05       372\n",
      "\n",
      "    accuracy                           0.84      2395\n",
      "   macro avg       0.67      0.51      0.48      2395\n",
      "weighted avg       0.79      0.84      0.78      2395\n",
      "\n"
     ]
    }
   ],
   "source": [
    "from sklearn.metrics import classification_report\n",
    "print(classification_report(ytest, ypred, labels=model.classes_))"
   ]
  },
  {
   "cell_type": "code",
   "execution_count": 18,
   "metadata": {},
   "outputs": [],
   "source": [
    "# Although both perform badly, decision tree actually performs better than random forest with many decision trees"
   ]
  }
 ],
 "metadata": {
  "kernelspec": {
   "display_name": "Python 3",
   "language": "python",
   "name": "python3"
  },
  "language_info": {
   "codemirror_mode": {
    "name": "ipython",
    "version": 3
   },
   "file_extension": ".py",
   "mimetype": "text/x-python",
   "name": "python",
   "nbconvert_exporter": "python",
   "pygments_lexer": "ipython3",
   "version": "3.7.4"
  }
 },
 "nbformat": 4,
 "nbformat_minor": 2
}
